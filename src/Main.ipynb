{
 "cells": [
  {
   "cell_type": "markdown",
   "source": [
    "### Imports\n",
    "\n",
    "Importing the ANN from the NeuralNetwork class\n",
    "Importing the matplotlib library for plotting graphs\n",
    "Importing numpy for mathematical calculations\n",
    "Importing seaborn and sklearn for the confusion matrices"
   ],
   "metadata": {
    "collapsed": false
   }
  },
  {
   "cell_type": "code",
   "execution_count": null,
   "outputs": [],
   "source": [
    "# IMPORT ALL NECESSARY PACKAGES AND MODULES\n",
    "\n",
    "from NeuralNetwork import ANN\n",
    "import matplotlib.pyplot as plt\n",
    "import numpy as np\n",
    "import seaborn as sns\n",
    "from sklearn.metrics import confusion_matrix"
   ],
   "metadata": {
    "collapsed": false
   }
  },
  {
   "cell_type": "markdown",
   "source": [
    "### Pre-Processing The Data\n",
    "\n",
    "We first divide the data into 3 sets:\n",
    "\n",
    "- Training Set\n",
    "- Validation Set\n",
    "- Test Set\n",
    "\n",
    "While training the model, the Training Set will be used alongside the Validation Set to measure its accuracy.\n",
    "\n",
    "Finally, after the model has been trained, the Test Set will be utilized to measure how the model performs on an unseen set of data."
   ],
   "metadata": {
    "collapsed": false
   }
  },
  {
   "cell_type": "code",
   "execution_count": null,
   "outputs": [],
   "source": [
    "# PRE-PROCESSING\n",
    "\n",
    "# Reading the data\n",
    "features = np.genfromtxt(\"data/features.txt\", delimiter=\",\")\n",
    "targets = np.genfromtxt(\"data/targets.txt\", delimiter=\",\")\n",
    "labels = np.unique(targets)\n",
    "\n",
    "# Splitting the data into 3 sets:\n",
    "# 15% of data as the test set\n",
    "test_fraction = 0.15\n",
    "# 15% of data as the validation set\n",
    "validation_fraction = 0.15\n",
    "# 70% of data as the training set\n",
    "training_fraction = 1 - test_fraction - validation_fraction\n",
    "\n",
    "# Calculate number of samples for each split\n",
    "n_samples = features.shape[0]\n",
    "n_train = int(n_samples * training_fraction)\n",
    "n_val = int(n_samples * validation_fraction)\n",
    "n_test = n_samples - n_train - n_val\n",
    "\n",
    "# Split features and targets into train, val, and test sets\n",
    "x_train = features[:n_train]\n",
    "y_train = targets[:n_train]\n",
    "\n",
    "x_val = features[n_train:n_train+n_val]\n",
    "y_val = targets[n_train:n_train+n_val]\n",
    "\n",
    "x_test = features[n_train+n_val:]\n",
    "y_test = targets[n_train+n_val:]"
   ],
   "metadata": {
    "collapsed": false
   }
  },
  {
   "cell_type": "markdown",
   "source": [
    "### Training: Less Computation Power\n",
    "\n",
    "Since our input data has 10 features and they must be classified into 1 of the 7 target classes, we can use the following:\n",
    "\n",
    "- Input Layer Neurons = 10\n",
    "- Output Layer Neurons = 7\n",
    "- Learning Rate = 0.01\n",
    "- Epoch = 20\n",
    "\n",
    "The learning rate is the standard learning rate used by other similar models.\n",
    "The epoch is the number of times the model iterates through the entire data to update the weights in order get the predictions more accurate\n",
    "\n",
    "The number of hidden neurons can be changed to allow more accurate pathways the data can take when in the model. This leads to more accuracy weights and this ensures a much better accuracy in prediction.\n",
    "\n",
    "The training below uses early stopping to stop the model from further training if an accuracy of 85% has been reached."
   ],
   "metadata": {
    "collapsed": false
   }
  },
  {
   "cell_type": "code",
   "execution_count": null,
   "outputs": [],
   "source": [
    "# TRAINING THE MODEL\n",
    "\n",
    "# Training the model with early stopping\n",
    "ann = ANN(num_features=10, hidden_neurons=15, target_classes=7, learning_rate=0.01, epoch=20)\n",
    "val_acc = ann.train(x_train, y_train, x_val, y_val, True, True)\n",
    "print(\"Best Accuracy Of Model With Early Stopping: \", val_acc)"
   ],
   "metadata": {
    "collapsed": false
   }
  },
  {
   "cell_type": "markdown",
   "source": [
    "### Training: More Accuracy\n",
    "\n",
    "The training below does not use early stopping, in order to try to get the model to hit the highest accuracy possible for predictions. This enables a much better prediction accuracy."
   ],
   "metadata": {
    "collapsed": false
   }
  },
  {
   "cell_type": "code",
   "execution_count": null,
   "outputs": [],
   "source": [
    "# TRAINING THE MODEL\n",
    "\n",
    "# Training the model without early stopping\n",
    "ann = ANN(num_features=10, hidden_neurons=15, target_classes=7, learning_rate=0.01, epoch=20)\n",
    "val_acc = ann.train(x_train, y_train, x_val, y_val, True, False)\n",
    "print(\"Best Accuracy Of Model: \", val_acc)"
   ],
   "metadata": {
    "collapsed": false
   }
  },
  {
   "cell_type": "markdown",
   "source": [
    "### Testing\n",
    "\n",
    "Now that the model has been trained, it can be tested on the unseen test set of data. The graphs show how accurate the model was."
   ],
   "metadata": {
    "collapsed": false
   }
  },
  {
   "cell_type": "code",
   "execution_count": null,
   "outputs": [],
   "source": [
    "# TESTING THE MODEL\n",
    "\n",
    "y_pred = ann.predict(x_test)\n",
    "\n",
    "# Compute the accuracy of the model\n",
    "accuracy = (y_pred == y_test).mean()\n",
    "print('Accuracy:', accuracy)\n",
    "\n",
    "# Plot the predicted values against the true values\n",
    "plt.xlabel('Data Values')\n",
    "plt.ylabel('Target Classes')\n",
    "plt.title('Accuracy of Neural Network on Test Set')\n",
    "plt.scatter(range(len(y_test)), y_test, c='b', label='True Values')\n",
    "plt.scatter(range(len(y_pred)), y_pred, c='r', label='Predicted Values')\n",
    "plt.legend()\n",
    "plt.show()"
   ],
   "metadata": {
    "collapsed": false
   }
  }
 ],
 "metadata": {
  "kernelspec": {
   "display_name": "Python 3",
   "language": "python",
   "name": "python3"
  },
  "language_info": {
   "codemirror_mode": {
    "name": "ipython",
    "version": 2
   },
   "file_extension": ".py",
   "mimetype": "text/x-python",
   "name": "python",
   "nbconvert_exporter": "python",
   "pygments_lexer": "ipython2",
   "version": "2.7.6"
  }
 },
 "nbformat": 4,
 "nbformat_minor": 0
}
